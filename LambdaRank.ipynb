{
 "cells": [
  {
   "cell_type": "markdown",
   "id": "bbd8072c",
   "metadata": {
    "id": "bbd8072c"
   },
   "source": [
    "# Implementation of the ranking algorithm: LambdaRank"
   ]
  },
  {
   "cell_type": "markdown",
   "id": "1411a028",
   "metadata": {
    "id": "1411a028"
   },
   "source": [
    "Import the necessary libraries. In this notebook, during model training, gradients will be calculated using the automatic differentiation library [Autograd](https://github.com/HIPS/autograd?tab=readme-ov-file)."
   ]
  },
  {
   "cell_type": "code",
   "execution_count": 1,
   "id": "6e8d3482",
   "metadata": {
    "id": "6e8d3482"
   },
   "outputs": [],
   "source": [
    "import autograd.numpy as np\n",
    "from autograd import jacobian\n",
    "import pandas as pd\n",
    "import matplotlib.pyplot as plt\n",
    "import seaborn as sns\n",
    "sns.set_style('whitegrid')\n",
    "from tqdm.notebook import tqdm\n",
    "from sklearn.model_selection import train_test_split\n",
    "from sklearn.preprocessing import StandardScaler\n",
    "from sklearn.ensemble import RandomForestRegressor\n",
    "from sklearn.metrics import ndcg_score\n",
    "import warnings\n",
    "warnings.filterwarnings(\"ignore\")"
   ]
  },
  {
   "cell_type": "markdown",
   "id": "8089bd2f",
   "metadata": {
    "id": "8089bd2f"
   },
   "source": [
    "We will use part of the dataset \"Microsoft Learning to Rank Datasets\": MSLR-WEB10K-Fold1-vali.txt. \n",
    "\n",
    "The dataset consists of feature vectors extracted from query-url pairs along with relevance judgment labels. Queries and urls are represented by IDs. The relevance judgments are obtained from a retired labeling set of a commercial web search engine (Microsoft Bing), which take 5 values from 0 (irrelevant) to 4 (perfectly relevant). In the data files, each row corresponds to a query-url pair. The first column is relevance label of the pair, the second column is query id, and the following columns are features. The larger value the relevance label has, the more relevant the query-url pair is. A query-url pair is represented by a 136-dimensional feature vector."
   ]
  },
  {
   "cell_type": "code",
   "execution_count": 2,
   "id": "41bed2ad",
   "metadata": {
    "colab": {
     "base_uri": "https://localhost:8080/",
     "height": 264
    },
    "id": "41bed2ad",
    "outputId": "58435f70-a436-481e-8723-569da6db4a82"
   },
   "outputs": [
    {
     "data": {
      "text/html": [
       "<div>\n",
       "<style scoped>\n",
       "    .dataframe tbody tr th:only-of-type {\n",
       "        vertical-align: middle;\n",
       "    }\n",
       "\n",
       "    .dataframe tbody tr th {\n",
       "        vertical-align: top;\n",
       "    }\n",
       "\n",
       "    .dataframe thead th {\n",
       "        text-align: right;\n",
       "    }\n",
       "</style>\n",
       "<table border=\"1\" class=\"dataframe\">\n",
       "  <thead>\n",
       "    <tr style=\"text-align: right;\">\n",
       "      <th></th>\n",
       "      <th>0</th>\n",
       "      <th>1</th>\n",
       "      <th>2</th>\n",
       "      <th>3</th>\n",
       "      <th>4</th>\n",
       "      <th>5</th>\n",
       "      <th>6</th>\n",
       "      <th>7</th>\n",
       "      <th>8</th>\n",
       "      <th>9</th>\n",
       "      <th>...</th>\n",
       "      <th>129</th>\n",
       "      <th>130</th>\n",
       "      <th>131</th>\n",
       "      <th>132</th>\n",
       "      <th>133</th>\n",
       "      <th>134</th>\n",
       "      <th>135</th>\n",
       "      <th>136</th>\n",
       "      <th>137</th>\n",
       "      <th>138</th>\n",
       "    </tr>\n",
       "  </thead>\n",
       "  <tbody>\n",
       "    <tr>\n",
       "      <th>0</th>\n",
       "      <td>0</td>\n",
       "      <td>qid:28</td>\n",
       "      <td>1:2</td>\n",
       "      <td>2:0</td>\n",
       "      <td>3:1</td>\n",
       "      <td>4:0</td>\n",
       "      <td>5:2</td>\n",
       "      <td>6:1</td>\n",
       "      <td>7:0</td>\n",
       "      <td>8:0.50000</td>\n",
       "      <td>...</td>\n",
       "      <td>128:7</td>\n",
       "      <td>129:0</td>\n",
       "      <td>130:119</td>\n",
       "      <td>131:1112</td>\n",
       "      <td>132:7</td>\n",
       "      <td>133:3</td>\n",
       "      <td>134:0</td>\n",
       "      <td>135:0</td>\n",
       "      <td>136:0</td>\n",
       "      <td>NaN</td>\n",
       "    </tr>\n",
       "    <tr>\n",
       "      <th>1</th>\n",
       "      <td>3</td>\n",
       "      <td>qid:28</td>\n",
       "      <td>1:2</td>\n",
       "      <td>2:1</td>\n",
       "      <td>3:2</td>\n",
       "      <td>4:1</td>\n",
       "      <td>5:2</td>\n",
       "      <td>6:1</td>\n",
       "      <td>7:0.50000</td>\n",
       "      <td>8:1</td>\n",
       "      <td>...</td>\n",
       "      <td>128:1</td>\n",
       "      <td>129:0</td>\n",
       "      <td>130:153</td>\n",
       "      <td>131:845</td>\n",
       "      <td>132:7</td>\n",
       "      <td>133:121</td>\n",
       "      <td>134:0</td>\n",
       "      <td>135:0</td>\n",
       "      <td>136:0</td>\n",
       "      <td>NaN</td>\n",
       "    </tr>\n",
       "    <tr>\n",
       "      <th>2</th>\n",
       "      <td>3</td>\n",
       "      <td>qid:28</td>\n",
       "      <td>1:2</td>\n",
       "      <td>2:0</td>\n",
       "      <td>3:2</td>\n",
       "      <td>4:1</td>\n",
       "      <td>5:2</td>\n",
       "      <td>6:1</td>\n",
       "      <td>7:0</td>\n",
       "      <td>8:1</td>\n",
       "      <td>...</td>\n",
       "      <td>128:4</td>\n",
       "      <td>129:1</td>\n",
       "      <td>130:154</td>\n",
       "      <td>131:236</td>\n",
       "      <td>132:104</td>\n",
       "      <td>133:153</td>\n",
       "      <td>134:0</td>\n",
       "      <td>135:0</td>\n",
       "      <td>136:0</td>\n",
       "      <td>NaN</td>\n",
       "    </tr>\n",
       "    <tr>\n",
       "      <th>3</th>\n",
       "      <td>0</td>\n",
       "      <td>qid:28</td>\n",
       "      <td>1:1</td>\n",
       "      <td>2:0</td>\n",
       "      <td>3:0</td>\n",
       "      <td>4:0</td>\n",
       "      <td>5:1</td>\n",
       "      <td>6:0.50000</td>\n",
       "      <td>7:0</td>\n",
       "      <td>8:0</td>\n",
       "      <td>...</td>\n",
       "      <td>128:34</td>\n",
       "      <td>129:2</td>\n",
       "      <td>130:289</td>\n",
       "      <td>131:57044</td>\n",
       "      <td>132:1</td>\n",
       "      <td>133:6</td>\n",
       "      <td>134:0</td>\n",
       "      <td>135:4</td>\n",
       "      <td>136:78.1</td>\n",
       "      <td>NaN</td>\n",
       "    </tr>\n",
       "    <tr>\n",
       "      <th>4</th>\n",
       "      <td>0</td>\n",
       "      <td>qid:28</td>\n",
       "      <td>1:2</td>\n",
       "      <td>2:0</td>\n",
       "      <td>3:1</td>\n",
       "      <td>4:1</td>\n",
       "      <td>5:2</td>\n",
       "      <td>6:1</td>\n",
       "      <td>7:0</td>\n",
       "      <td>8:0.50000</td>\n",
       "      <td>...</td>\n",
       "      <td>128:0</td>\n",
       "      <td>129:0</td>\n",
       "      <td>130:1539</td>\n",
       "      <td>131:55499</td>\n",
       "      <td>132:1</td>\n",
       "      <td>133:1</td>\n",
       "      <td>134:0</td>\n",
       "      <td>135:0</td>\n",
       "      <td>136:0</td>\n",
       "      <td>NaN</td>\n",
       "    </tr>\n",
       "  </tbody>\n",
       "</table>\n",
       "<p>5 rows × 139 columns</p>\n",
       "</div>"
      ],
      "text/plain": [
       "   0       1    2    3    4    5    6          7          8          9    ...  \\\n",
       "0    0  qid:28  1:2  2:0  3:1  4:0  5:2        6:1        7:0  8:0.50000  ...   \n",
       "1    3  qid:28  1:2  2:1  3:2  4:1  5:2        6:1  7:0.50000        8:1  ...   \n",
       "2    3  qid:28  1:2  2:0  3:2  4:1  5:2        6:1        7:0        8:1  ...   \n",
       "3    0  qid:28  1:1  2:0  3:0  4:0  5:1  6:0.50000        7:0        8:0  ...   \n",
       "4    0  qid:28  1:2  2:0  3:1  4:1  5:2        6:1        7:0  8:0.50000  ...   \n",
       "\n",
       "      129    130       131        132      133      134    135    136  \\\n",
       "0   128:7  129:0   130:119   131:1112    132:7    133:3  134:0  135:0   \n",
       "1   128:1  129:0   130:153    131:845    132:7  133:121  134:0  135:0   \n",
       "2   128:4  129:1   130:154    131:236  132:104  133:153  134:0  135:0   \n",
       "3  128:34  129:2   130:289  131:57044    132:1    133:6  134:0  135:4   \n",
       "4   128:0  129:0  130:1539  131:55499    132:1    133:1  134:0  135:0   \n",
       "\n",
       "        137 138  \n",
       "0     136:0 NaN  \n",
       "1     136:0 NaN  \n",
       "2     136:0 NaN  \n",
       "3  136:78.1 NaN  \n",
       "4     136:0 NaN  \n",
       "\n",
       "[5 rows x 139 columns]"
      ]
     },
     "execution_count": 2,
     "metadata": {},
     "output_type": "execute_result"
    }
   ],
   "source": [
    "df = pd.read_csv('data/MSLR-WEB.txt', header=None, sep=' ')\n",
    "df.head()"
   ]
  },
  {
   "cell_type": "code",
   "execution_count": 3,
   "id": "TZ8fPbATfffd",
   "metadata": {
    "colab": {
     "base_uri": "https://localhost:8080/"
    },
    "id": "TZ8fPbATfffd",
    "outputId": "353613c5-e8bc-40d4-df2d-b2e1e7a38f5e"
   },
   "outputs": [
    {
     "data": {
      "text/plain": [
       "(47001, 139)"
      ]
     },
     "execution_count": 3,
     "metadata": {},
     "output_type": "execute_result"
    }
   ],
   "source": [
    "df.shape"
   ]
  },
  {
   "cell_type": "markdown",
   "id": "phs2S0t8coFA",
   "metadata": {
    "id": "phs2S0t8coFA"
   },
   "source": [
    "Let's find columns with missing values."
   ]
  },
  {
   "cell_type": "code",
   "execution_count": 4,
   "id": "UBgN0x40bHCt",
   "metadata": {
    "colab": {
     "base_uri": "https://localhost:8080/"
    },
    "id": "UBgN0x40bHCt",
    "outputId": "3f10bfec-6fe1-42d5-bfca-bc0ddd101839"
   },
   "outputs": [
    {
     "name": "stdout",
     "output_type": "stream",
     "text": [
      "columns where all data is missing: [138]\n",
      "columns that have missing data: [138]\n"
     ]
    }
   ],
   "source": [
    "print('columns where all data is missing:', df.columns[df.isna().all()].tolist())\n",
    "print('columns that have missing data:', df.columns[df.isna().any()].tolist())"
   ]
  },
  {
   "cell_type": "markdown",
   "id": "56b395c7",
   "metadata": {
    "id": "56b395c7"
   },
   "source": [
    "Removing column 138 containing None. Removing the names **feature_id:** and **qid:** from the data. Replacing the column names with more informative ones. And converting data type from object to int and float."
   ]
  },
  {
   "cell_type": "code",
   "execution_count": 5,
   "id": "fadfdfc9",
   "metadata": {
    "id": "fadfdfc9"
   },
   "outputs": [],
   "source": [
    "def preprocess_data(df):\n",
    "    df[1] = df[1].apply(lambda col: col[4:])\n",
    "    df.iloc[:, 2:138] = df.iloc[:, 2:138].applymap(lambda col: col.split(':')[1])\n",
    "    df = df.drop(columns=[138])\n",
    "    df.columns = ['feat_' + str(i-1) for i in df.columns]\n",
    "    df.rename(columns={'feat_-1': 'relevance', 'feat_0': 'qid'}, inplace=True)\n",
    "    df.iloc[:, 2:138] = df.iloc[:, 2:138].astype(float)\n",
    "    df.iloc[:, 0:2] = df.iloc[:, 0:2].astype(int)\n",
    "    return df"
   ]
  },
  {
   "cell_type": "code",
   "execution_count": 6,
   "id": "fff6a700",
   "metadata": {
    "colab": {
     "base_uri": "https://localhost:8080/",
     "height": 359
    },
    "id": "fff6a700",
    "outputId": "4a2d2d09-a525-40c5-d09f-bf87da1e3f8c"
   },
   "outputs": [
    {
     "data": {
      "text/html": [
       "<div>\n",
       "<style scoped>\n",
       "    .dataframe tbody tr th:only-of-type {\n",
       "        vertical-align: middle;\n",
       "    }\n",
       "\n",
       "    .dataframe tbody tr th {\n",
       "        vertical-align: top;\n",
       "    }\n",
       "\n",
       "    .dataframe thead th {\n",
       "        text-align: right;\n",
       "    }\n",
       "</style>\n",
       "<table border=\"1\" class=\"dataframe\">\n",
       "  <thead>\n",
       "    <tr style=\"text-align: right;\">\n",
       "      <th></th>\n",
       "      <th>relevance</th>\n",
       "      <th>qid</th>\n",
       "      <th>feat_1</th>\n",
       "      <th>feat_2</th>\n",
       "      <th>feat_3</th>\n",
       "      <th>feat_4</th>\n",
       "      <th>feat_5</th>\n",
       "      <th>feat_6</th>\n",
       "      <th>feat_7</th>\n",
       "      <th>feat_8</th>\n",
       "      <th>...</th>\n",
       "      <th>feat_127</th>\n",
       "      <th>feat_128</th>\n",
       "      <th>feat_129</th>\n",
       "      <th>feat_130</th>\n",
       "      <th>feat_131</th>\n",
       "      <th>feat_132</th>\n",
       "      <th>feat_133</th>\n",
       "      <th>feat_134</th>\n",
       "      <th>feat_135</th>\n",
       "      <th>feat_136</th>\n",
       "    </tr>\n",
       "  </thead>\n",
       "  <tbody>\n",
       "    <tr>\n",
       "      <th>0</th>\n",
       "      <td>0</td>\n",
       "      <td>28</td>\n",
       "      <td>2.0</td>\n",
       "      <td>0.0</td>\n",
       "      <td>1.0</td>\n",
       "      <td>0.0</td>\n",
       "      <td>2.0</td>\n",
       "      <td>1.0</td>\n",
       "      <td>0.0</td>\n",
       "      <td>0.5</td>\n",
       "      <td>...</td>\n",
       "      <td>49.0</td>\n",
       "      <td>7.0</td>\n",
       "      <td>0.0</td>\n",
       "      <td>119.0</td>\n",
       "      <td>1112.0</td>\n",
       "      <td>7.0</td>\n",
       "      <td>3.0</td>\n",
       "      <td>0.0</td>\n",
       "      <td>0.0</td>\n",
       "      <td>0.0</td>\n",
       "    </tr>\n",
       "    <tr>\n",
       "      <th>1</th>\n",
       "      <td>3</td>\n",
       "      <td>28</td>\n",
       "      <td>2.0</td>\n",
       "      <td>1.0</td>\n",
       "      <td>2.0</td>\n",
       "      <td>1.0</td>\n",
       "      <td>2.0</td>\n",
       "      <td>1.0</td>\n",
       "      <td>0.5</td>\n",
       "      <td>1.0</td>\n",
       "      <td>...</td>\n",
       "      <td>38.0</td>\n",
       "      <td>1.0</td>\n",
       "      <td>0.0</td>\n",
       "      <td>153.0</td>\n",
       "      <td>845.0</td>\n",
       "      <td>7.0</td>\n",
       "      <td>121.0</td>\n",
       "      <td>0.0</td>\n",
       "      <td>0.0</td>\n",
       "      <td>0.0</td>\n",
       "    </tr>\n",
       "    <tr>\n",
       "      <th>2</th>\n",
       "      <td>3</td>\n",
       "      <td>28</td>\n",
       "      <td>2.0</td>\n",
       "      <td>0.0</td>\n",
       "      <td>2.0</td>\n",
       "      <td>1.0</td>\n",
       "      <td>2.0</td>\n",
       "      <td>1.0</td>\n",
       "      <td>0.0</td>\n",
       "      <td>1.0</td>\n",
       "      <td>...</td>\n",
       "      <td>29.0</td>\n",
       "      <td>4.0</td>\n",
       "      <td>1.0</td>\n",
       "      <td>154.0</td>\n",
       "      <td>236.0</td>\n",
       "      <td>104.0</td>\n",
       "      <td>153.0</td>\n",
       "      <td>0.0</td>\n",
       "      <td>0.0</td>\n",
       "      <td>0.0</td>\n",
       "    </tr>\n",
       "    <tr>\n",
       "      <th>3</th>\n",
       "      <td>0</td>\n",
       "      <td>28</td>\n",
       "      <td>1.0</td>\n",
       "      <td>0.0</td>\n",
       "      <td>0.0</td>\n",
       "      <td>0.0</td>\n",
       "      <td>1.0</td>\n",
       "      <td>0.5</td>\n",
       "      <td>0.0</td>\n",
       "      <td>0.0</td>\n",
       "      <td>...</td>\n",
       "      <td>38.0</td>\n",
       "      <td>34.0</td>\n",
       "      <td>2.0</td>\n",
       "      <td>289.0</td>\n",
       "      <td>57044.0</td>\n",
       "      <td>1.0</td>\n",
       "      <td>6.0</td>\n",
       "      <td>0.0</td>\n",
       "      <td>4.0</td>\n",
       "      <td>78.1</td>\n",
       "    </tr>\n",
       "    <tr>\n",
       "      <th>4</th>\n",
       "      <td>0</td>\n",
       "      <td>28</td>\n",
       "      <td>2.0</td>\n",
       "      <td>0.0</td>\n",
       "      <td>1.0</td>\n",
       "      <td>1.0</td>\n",
       "      <td>2.0</td>\n",
       "      <td>1.0</td>\n",
       "      <td>0.0</td>\n",
       "      <td>0.5</td>\n",
       "      <td>...</td>\n",
       "      <td>42.0</td>\n",
       "      <td>0.0</td>\n",
       "      <td>0.0</td>\n",
       "      <td>1539.0</td>\n",
       "      <td>55499.0</td>\n",
       "      <td>1.0</td>\n",
       "      <td>1.0</td>\n",
       "      <td>0.0</td>\n",
       "      <td>0.0</td>\n",
       "      <td>0.0</td>\n",
       "    </tr>\n",
       "  </tbody>\n",
       "</table>\n",
       "<p>5 rows × 138 columns</p>\n",
       "</div>"
      ],
      "text/plain": [
       "   relevance  qid  feat_1  feat_2  feat_3  feat_4  feat_5  feat_6  feat_7  \\\n",
       "0          0   28     2.0     0.0     1.0     0.0     2.0     1.0     0.0   \n",
       "1          3   28     2.0     1.0     2.0     1.0     2.0     1.0     0.5   \n",
       "2          3   28     2.0     0.0     2.0     1.0     2.0     1.0     0.0   \n",
       "3          0   28     1.0     0.0     0.0     0.0     1.0     0.5     0.0   \n",
       "4          0   28     2.0     0.0     1.0     1.0     2.0     1.0     0.0   \n",
       "\n",
       "   feat_8  ...  feat_127  feat_128  feat_129  feat_130  feat_131  feat_132  \\\n",
       "0     0.5  ...      49.0       7.0       0.0     119.0    1112.0       7.0   \n",
       "1     1.0  ...      38.0       1.0       0.0     153.0     845.0       7.0   \n",
       "2     1.0  ...      29.0       4.0       1.0     154.0     236.0     104.0   \n",
       "3     0.0  ...      38.0      34.0       2.0     289.0   57044.0       1.0   \n",
       "4     0.5  ...      42.0       0.0       0.0    1539.0   55499.0       1.0   \n",
       "\n",
       "   feat_133  feat_134  feat_135  feat_136  \n",
       "0       3.0       0.0       0.0       0.0  \n",
       "1     121.0       0.0       0.0       0.0  \n",
       "2     153.0       0.0       0.0       0.0  \n",
       "3       6.0       0.0       4.0      78.1  \n",
       "4       1.0       0.0       0.0       0.0  \n",
       "\n",
       "[5 rows x 138 columns]"
      ]
     },
     "execution_count": 6,
     "metadata": {},
     "output_type": "execute_result"
    }
   ],
   "source": [
    "df_prep = preprocess_data(df)\n",
    "df_prep.head()"
   ]
  },
  {
   "cell_type": "code",
   "execution_count": 7,
   "id": "e9a3fe36",
   "metadata": {},
   "outputs": [
    {
     "data": {
      "text/plain": [
       "float64    136\n",
       "int32        2\n",
       "dtype: int64"
      ]
     },
     "execution_count": 7,
     "metadata": {},
     "output_type": "execute_result"
    }
   ],
   "source": [
    "df_prep.dtypes.value_counts()"
   ]
  },
  {
   "cell_type": "markdown",
   "id": "5bf7367e",
   "metadata": {
    "id": "5bf7367e"
   },
   "source": [
    "To train the model faster, we will use only part of the data, with the number of queries equal to **subset_size**."
   ]
  },
  {
   "cell_type": "code",
   "execution_count": 8,
   "id": "0c3bb844",
   "metadata": {
    "id": "0c3bb844"
   },
   "outputs": [],
   "source": [
    "queries = df_prep['qid'].unique()\n",
    "subset_size = 160\n",
    "queries_subset = np.random.choice(queries, size=subset_size, replace=False)\n",
    "train_queries, test_queries = train_test_split(queries_subset, test_size=0.35, random_state=42)\n",
    "train_df = df_prep[df_prep['qid'].isin(train_queries)]\n",
    "test_df = df_prep[df_prep['qid'].isin(test_queries)]"
   ]
  },
  {
   "cell_type": "code",
   "execution_count": 9,
   "id": "f0932433",
   "metadata": {
    "id": "f0932433"
   },
   "outputs": [],
   "source": [
    "def get_x_y(df, query):\n",
    "    df_query = df[df['qid'] == query]\n",
    "    X_query = np.array(df_query.drop(columns=['relevance', 'qid']))\n",
    "    y_query = np.array(df_query['relevance'])\n",
    "    return X_query, y_query"
   ]
  },
  {
   "cell_type": "code",
   "execution_count": 10,
   "id": "cbe26b8f",
   "metadata": {
    "id": "cbe26b8f"
   },
   "outputs": [],
   "source": [
    "def delete_equal_relevance(df):\n",
    "    all_queries = df['qid'].unique()\n",
    "    query_equal_rel = []\n",
    "    for query in all_queries:\n",
    "        _, y_query = get_x_y(df, query)\n",
    "        if np.all(y_query == y_query[0]):\n",
    "            query_equal_rel.append(query)\n",
    "    return df.drop(df[df['qid'].isin(query_equal_rel)].index)"
   ]
  },
  {
   "cell_type": "markdown",
   "id": "40cdcb56",
   "metadata": {
    "id": "40cdcb56"
   },
   "source": [
    "If for a given query all relevancies are equal, then we will remove such queries, since they do not contain a useful signal."
   ]
  },
  {
   "cell_type": "code",
   "execution_count": 11,
   "id": "855fcc8a",
   "metadata": {
    "id": "855fcc8a"
   },
   "outputs": [],
   "source": [
    "train_df = delete_equal_relevance(train_df)\n",
    "test_df = delete_equal_relevance(test_df)"
   ]
  },
  {
   "cell_type": "markdown",
   "id": "e962a0d7",
   "metadata": {
    "id": "e962a0d7"
   },
   "source": [
    "Let's standardize the data to train the model faster."
   ]
  },
  {
   "cell_type": "code",
   "execution_count": 12,
   "id": "1ce025eb",
   "metadata": {
    "id": "1ce025eb"
   },
   "outputs": [],
   "source": [
    "scaler = StandardScaler()\n",
    "train_df.iloc[:,2:138] = scaler.fit_transform(train_df.iloc[:,2:138])\n",
    "test_df.iloc[:,2:138] = scaler.transform(test_df.iloc[:,2:138])"
   ]
  },
  {
   "cell_type": "markdown",
   "id": "e12e907e",
   "metadata": {},
   "source": [
    "Select only the most relevant features using Random Forest Regressor.\n",
    "\n",
    "Let's look at the balance of relevance scores."
   ]
  },
  {
   "cell_type": "code",
   "execution_count": 13,
   "id": "6da931c9",
   "metadata": {},
   "outputs": [
    {
     "data": {
      "image/png": "[encoded data removed]",
      "text/plain": [
       "<Figure size 432x288 with 1 Axes>"
      ]
     },
     "metadata": {},
     "output_type": "display_data"
    }
   ],
   "source": [
    "train_df['relevance'].value_counts().plot.bar(rot=0);"
   ]
  },
  {
   "cell_type": "code",
   "execution_count": 14,
   "id": "2f197810",
   "metadata": {},
   "outputs": [],
   "source": [
    "queries = train_df['qid'].unique()\n",
    "train_queries, test_queries = train_test_split(queries, test_size=0.3, random_state=42)\n",
    "train_df_fs = train_df[train_df['qid'].isin(train_queries)]\n",
    "test_df_fs = train_df[train_df['qid'].isin(test_queries)]\n",
    "X_train = train_df_fs.drop(['relevance', 'qid'], axis=1)\n",
    "y_train = train_df_fs['relevance']\n",
    "X_test = test_df_fs.drop(['relevance', 'qid'], axis=1)\n",
    "y_test_df = test_df_fs[['relevance', 'qid']]"
   ]
  },
  {
   "cell_type": "code",
   "execution_count": 15,
   "id": "3aaa5676",
   "metadata": {},
   "outputs": [],
   "source": [
    "def ndcg_mean(y_test_df, y_pred):\n",
    "    queries_test = y_test_df['qid'].unique()\n",
    "    num_queries = len(queries_test)\n",
    "    ndcg = np.zeros(num_queries)\n",
    "    init_idx = 0\n",
    "    for i, query in enumerate(queries_test):\n",
    "        y_test_query = y_test_df[y_test_df['qid'] == query]\n",
    "        y_test = np.array(y_test_query['relevance'])\n",
    "        final_idx = init_idx + len(y_test)\n",
    "        score = y_pred[init_idx: final_idx]\n",
    "        init_idx = final_idx\n",
    "        ndcg[i] = ndcg_score(y_test[None, :], score[None, :])\n",
    "    return np.mean(ndcg)"
   ]
  },
  {
   "cell_type": "markdown",
   "id": "1b0ad150",
   "metadata": {},
   "source": [
    "Let's try to find the most optimal parameters for training the Random Forest Regressor. NDCG will be used as a quality metric."
   ]
  },
  {
   "cell_type": "code",
   "execution_count": 16,
   "id": "df09b304",
   "metadata": {},
   "outputs": [],
   "source": [
    "n_estimators = [50]\n",
    "max_features = [40, 45, 50]\n",
    "min_samples_leaf = [4, 5, 6]\n",
    "\n",
    "param_grid = [\n",
    "    {\n",
    "        'n_estimators': ne,\n",
    "        'max_features': mf, \n",
    "        'min_samples_leaf': msl,\n",
    "        'random_state': 42\n",
    "    } for ne in n_estimators for mf in max_features for msl in min_samples_leaf\n",
    "]"
   ]
  },
  {
   "cell_type": "code",
   "execution_count": 17,
   "id": "55e6d8c9",
   "metadata": {},
   "outputs": [
    {
     "data": {
      "application/vnd.jupyter.widget-view+json": {
       "model_id": "28e1b75c35224f3d8b8d6b6d8f772905",
       "version_major": 2,
       "version_minor": 0
      },
      "text/plain": [
       "  0%|          | 0/9 [00:00<?, ?it/s]"
      ]
     },
     "metadata": {},
     "output_type": "display_data"
    }
   ],
   "source": [
    "best_ndcg = 0\n",
    "best_params = None\n",
    "for p in tqdm(param_grid):\n",
    "    rf = RandomForestRegressor(**p)\n",
    "    rf.fit(X_train, y_train);\n",
    "    y_pred = rf.predict(X_test)\n",
    "    ndcg = ndcg_mean(y_test_df, y_pred)\n",
    "    if best_ndcg < ndcg:\n",
    "        best_ndcg = ndcg\n",
    "        best_params = p"
   ]
  },
  {
   "cell_type": "code",
   "execution_count": 18,
   "id": "285635ce",
   "metadata": {},
   "outputs": [
    {
     "name": "stdout",
     "output_type": "stream",
     "text": [
      "best_ndcg: 0.8009936840992048\n",
      "best_params: {'n_estimators': 50, 'max_features': 50, 'min_samples_leaf': 6, 'random_state': 42}\n"
     ]
    }
   ],
   "source": [
    "print('best_ndcg:', best_ndcg)\n",
    "print('best_params:', best_params)"
   ]
  },
  {
   "cell_type": "code",
   "execution_count": 19,
   "id": "20cf460d",
   "metadata": {},
   "outputs": [],
   "source": [
    "rf = RandomForestRegressor(**best_params)\n",
    "rf.fit(X_train, y_train);"
   ]
  },
  {
   "cell_type": "code",
   "execution_count": 20,
   "id": "2f459e79",
   "metadata": {},
   "outputs": [],
   "source": [
    "feature_importances = rf.feature_importances_\n",
    "\n",
    "feature_importance_df = pd.DataFrame({\n",
    "    'Feature': X_train.columns,\n",
    "    'Importance': feature_importances\n",
    "})\n",
    "\n",
    "feature_importance_df = feature_importance_df.sort_values(by='Importance', ascending=False)\n",
    "feature_importances_sort = feature_importance_df['Importance'].to_list()"
   ]
  },
  {
   "cell_type": "code",
   "execution_count": 21,
   "id": "3155f0b7",
   "metadata": {},
   "outputs": [
    {
     "data": {
      "image/png": "[encoded data removed]",
      "text/plain": [
       "<Figure size 720x360 with 1 Axes>"
      ]
     },
     "metadata": {},
     "output_type": "display_data"
    }
   ],
   "source": [
    "fig, ax = plt.subplots(figsize=(10, 5))\n",
    "plt.plot(np.arange(len(feature_importances_sort)) + 1, feature_importances_sort, zorder=1)\n",
    "num_features = 20\n",
    "plt.scatter(num_features, feature_importances_sort[num_features-1], c='r', marker='+', s=200, zorder=2)\n",
    "plt.xlabel('feature_sort_number', fontsize=15)\n",
    "plt.ylabel('feature_importance', fontsize=15)\n",
    "plt.show()"
   ]
  },
  {
   "cell_type": "code",
   "execution_count": 22,
   "id": "5f82c1e0",
   "metadata": {},
   "outputs": [
    {
     "data": {
      "text/plain": [
       "array(['feat_130', 'feat_55', 'feat_131', 'feat_110', 'feat_11',\n",
       "       'feat_15', 'feat_127', 'feat_129', 'feat_88', 'feat_134',\n",
       "       'feat_106', 'feat_128', 'feat_132', 'feat_109', 'feat_113',\n",
       "       'feat_108', 'feat_133', 'feat_123', 'feat_20', 'feat_65'],\n",
       "      dtype=object)"
      ]
     },
     "execution_count": 22,
     "metadata": {},
     "output_type": "execute_result"
    }
   ],
   "source": [
    "top_features = feature_importance_df.head(num_features)['Feature'].values\n",
    "top_features"
   ]
  },
  {
   "cell_type": "code",
   "execution_count": 23,
   "id": "9ba130b1",
   "metadata": {},
   "outputs": [],
   "source": [
    "train_df_selected = train_df[np.append(['relevance', 'qid'], top_features)]\n",
    "test_df_selected = test_df[np.append(['relevance', 'qid'], top_features)]"
   ]
  },
  {
   "cell_type": "markdown",
   "id": "4386e24e",
   "metadata": {
    "id": "4386e24e"
   },
   "source": [
    "LambdaRank is a ranking method based on the pairwise approach. The key observation of LambdaRank is thus that in order to train a model, we don’t need the costs themselves: we only need the gradients (of the costs with respect to the model scores). Such a model actually optimizes NDCG directly.\n",
    "\n",
    "References:  \n",
    "- [From RankNet to LambdaRank to LambdaMART: AnOverview](https://www.microsoft.com/en-us/research/wp-content/uploads/2016/02/MSR-TR-2010-82.pdf).  \n",
    "- [Learning to Rank with Nonsmooth Cost Functions](https://www.microsoft.com/en-us/research/wp-content/uploads/2016/02/lambdarank.pdf)."
   ]
  },
  {
   "cell_type": "code",
   "execution_count": 24,
   "id": "1b3f3f7d",
   "metadata": {
    "id": "1b3f3f7d"
   },
   "outputs": [],
   "source": [
    "class RankNet():\n",
    "    def __init__(self, size_0, size_1, size_2):\n",
    "        std_1 = np.sqrt(2 / size_0)\n",
    "        self.w1 = np.random.randn(size_0, size_1) * std_1\n",
    "        self.b1 = np.random.randn(1, size_1) * std_1\n",
    "        std_2 = np.sqrt(2 / size_1)\n",
    "        self.w2 = np.random.randn(size_1, size_2) * std_2\n",
    "        self.b2 = np.random.randn(1, size_2) * std_2\n",
    "        std_3 = np.sqrt(2 / (size_1 + size_2))\n",
    "        self.w3 = np.random.randn(size_2, 1) * std_3\n",
    "        self.b3 = np.random.randn(1, 1) * std_3\n",
    "\n",
    "    def Leaky_ReLU(self, x):\n",
    "        return np.maximum(0.01 * x, x)\n",
    "\n",
    "    def tanh(self, x):\n",
    "        return 2 / (1 + np.exp(-2 * x)) - 1\n",
    "\n",
    "    def forward(self, X, w1, b1, w2, b2, w3, b3):\n",
    "        z1 = self.Leaky_ReLU(np.dot(X, w1) + b1)\n",
    "        z2 = self.Leaky_ReLU(np.dot(z1, w2) + b2)\n",
    "        z3 = self.tanh(np.dot(z2, w3) + b3)\n",
    "        return z3\n",
    "\n",
    "    def get_x_y(self, df, query):\n",
    "        df_query = df[df['qid'] == query]\n",
    "        X_query = np.array(df_query.drop(columns=['relevance', 'qid']))\n",
    "        y_query = np.array(df_query['relevance'])\n",
    "        return X_query, y_query\n",
    "\n",
    "    def jacobian_func(self):\n",
    "        \"\"\"\n",
    "        Compute the Jacobian matrices from the model output given the model coefficients.\n",
    "        \"\"\"\n",
    "        J = []\n",
    "        for i in range(1,7):\n",
    "            J.append(jacobian(self.forward, i))\n",
    "        return J\n",
    "\n",
    "    def idcg(self, y_true, k):\n",
    "        \"\"\"\n",
    "        Compute the IDCG value\n",
    "\n",
    "        Parameters\n",
    "        ----------\n",
    "        y_true : ndarray of shape (n_samples,)\n",
    "        k : particular rank position\n",
    "        \"\"\"\n",
    "        position = min(k, len(y_true))\n",
    "        y_true_sorted = -np.sort(-y_true)[:position]\n",
    "        gains = np.power(2, y_true_sorted)\n",
    "        discounts = np.log2(np.arange(position) + 2)\n",
    "        idcg = gains / discounts\n",
    "        return np.sum(idcg)\n",
    "\n",
    "    def ndcg(self, y_true, scores, idcg, k):\n",
    "        \"\"\"\n",
    "        Compute the NDCG value\n",
    "\n",
    "        Parameters\n",
    "        ----------\n",
    "        y_true : ndarray of shape (n_samples,)\n",
    "        scores : ndarray of shape (n_samples, 1)\n",
    "        idcg : IDCG value based on the given y_true\n",
    "        k : particular rank position\n",
    "        \"\"\"\n",
    "        scores = np.squeeze(scores)\n",
    "        position = min(k, len(y_true))\n",
    "        argsort_indices = np.argsort(-scores)[:position]\n",
    "        gains = np.power(2, y_true[argsort_indices])\n",
    "        discounts = np.log2(np.arange(position) + 2)\n",
    "        dcg = gains / discounts\n",
    "        return np.sum(dcg / idcg)\n",
    "\n",
    "    def calc_lambda_coeff(self, scores, y_true, alpha):\n",
    "        \"\"\"\n",
    "        Compute the NDCG value\n",
    "\n",
    "        Parameters\n",
    "        ----------\n",
    "        y_true : ndarray of shape (n_samples,)\n",
    "        scores : ndarray of shape (n_samples, 1)\n",
    "        alpha : parameter that determines the shape of the sigmoid\n",
    "\n",
    "        Returns\n",
    "        -------\n",
    "        lambda_coeff : ndarray of shape (n_samples, 1)\n",
    "            gradients of the cost function with respect to the model scores\n",
    "        \"\"\"\n",
    "        n_samples = len(y_true)\n",
    "        idcg = self.idcg(y_true, n_samples)\n",
    "\n",
    "        y_true = y_true[:,None]\n",
    "        rel_diff = y_true - y_true.T\n",
    "        pos_pairs = (rel_diff > 0).astype(int)\n",
    "        neg_pairs = (rel_diff < 0).astype(int)\n",
    "        s_ij = pos_pairs - neg_pairs\n",
    "\n",
    "        rank_order = np.argsort(np.argsort(scores, axis=0), axis=0)\n",
    "        gains_diff = np.power(2, y_true) - np.power(2, y_true.T)\n",
    "        discounts_diff = 1 / np.log2(rank_order + 2) - 1 / np.log2(rank_order.T + 2)\n",
    "        delta_ndcg = np.abs(gains_diff * discounts_diff) / idcg\n",
    "\n",
    "        lambda_coeff = (\n",
    "            alpha * ((1 - s_ij) / 2 - 1 / (1 + np.exp(alpha * (scores - scores.T)))) * delta_ndcg\n",
    "        )\n",
    "        lambda_coeff = np.sum(lambda_coeff, axis=1)\n",
    "        return lambda_coeff[:, None]\n",
    "\n",
    "    def adam_update(self, grad, m, v, lr, beta1=0.9, beta2=0.99, epsilon=1e-8):\n",
    "        param = [self.w1, self.b1, self.w2, self.b2, self.w3, self.b3]\n",
    "        for i in range(6):\n",
    "            m[i] = beta1 * m[i] + (1 - beta1) * grad[i]\n",
    "            v[i] = beta2 * v[i] + (1 - beta2) * np.power(grad[i], 2)\n",
    "            param[i] -= lr * m[i] / (np.sqrt(v[i]) + epsilon)\n",
    "        return m, v\n",
    "\n",
    "    def train(self, df, df_test, size_mini_batch, alpha, n_epoch, learning_rate, k):\n",
    "        all_queries = df['qid'].unique()\n",
    "        n_queries = all_queries.shape[0]\n",
    "        ndcg_train_log = np.zeros(n_epoch)\n",
    "        ndcg_test_log = np.zeros(n_epoch)\n",
    "        num_batches = n_queries // size_mini_batch\n",
    "        if n_queries % size_mini_batch != 0:\n",
    "            num_batches += 1\n",
    "\n",
    "        m = [np.zeros(self.w1.shape), np.zeros(self.b1.shape), np.zeros(self.w2.shape),\n",
    "            np.zeros(self.b2.shape), np.zeros(self.w3.shape), np.zeros(self.b3.shape)]\n",
    "        v = [np.zeros(self.w1.shape), np.zeros(self.b1.shape), np.zeros(self.w2.shape),\n",
    "            np.zeros(self.b2.shape), np.zeros(self.w3.shape), np.zeros(self.b3.shape)]\n",
    "        J = self.jacobian_func()\n",
    "        \n",
    "        for i in tqdm(range(n_epoch)):\n",
    "            np.random.shuffle(all_queries)\n",
    "            for batch in range(num_batches):\n",
    "                dw1 = np.zeros(self.w1.shape)\n",
    "                db1 = np.zeros(self.b1.shape)\n",
    "                dw2 = np.zeros(self.w2.shape)\n",
    "                db2 = np.zeros(self.b2.shape)\n",
    "                dw3 = np.zeros(self.w3.shape)\n",
    "                db3 = np.zeros(self.b3.shape)\n",
    "                init = batch * size_mini_batch\n",
    "                final = init + size_mini_batch\n",
    "                queries_batch = all_queries[init : final]\n",
    "                for query in queries_batch:\n",
    "                    X, y = self.get_x_y(df, query)\n",
    "                    scores = self.forward(X, self.w1, self.b1, self.w2, self.b2, self.w3, self.b3)\n",
    "                    lambda_coeff = self.calc_lambda_coeff(scores, y, alpha)\n",
    "                    jw1 = J[0](X, self.w1, self.b1, self.w2, self.b2, self.w3, self.b3)\n",
    "                    jb1 = J[1](X, self.w1, self.b1, self.w2, self.b2, self.w3, self.b3)\n",
    "                    jw2 = J[2](X, self.w1, self.b1, self.w2, self.b2, self.w3, self.b3)\n",
    "                    jb2 = J[3](X, self.w1, self.b1, self.w2, self.b2, self.w3, self.b3)\n",
    "                    jw3 = J[4](X, self.w1, self.b1, self.w2, self.b2, self.w3, self.b3)\n",
    "                    jb3 = J[5](X, self.w1, self.b1, self.w2, self.b2, self.w3, self.b3)\n",
    "                    dw1 += np.tensordot(lambda_coeff, jw1)\n",
    "                    db1 += np.tensordot(lambda_coeff, jb1)\n",
    "                    dw2 += np.tensordot(lambda_coeff, jw2)\n",
    "                    db2 += np.tensordot(lambda_coeff, jb2)\n",
    "                    dw3 += np.tensordot(lambda_coeff, jw3)\n",
    "                    db3 += np.tensordot(lambda_coeff, jb3)\n",
    "                g = [dw1, db1, dw2, db2, dw3, db3]\n",
    "                m, v = self.adam_update(g, m, v, lr=learning_rate)\n",
    "            if i % 10 == 0:\n",
    "                learning_rate *= 0.75\n",
    "            ndcg_train_log[i] = self.predict(df)\n",
    "            ndcg_test_log[i] = self.predict(df_test)\n",
    "        return ndcg_train_log, ndcg_test_log\n",
    "\n",
    "    def predict(self, df):\n",
    "        \"\"\"\n",
    "        Predict the NDCG for given dataset\n",
    "        \"\"\"\n",
    "        all_queries = df['qid'].unique()\n",
    "        n_queries = all_queries.shape[0]\n",
    "        ndcg_all_q = 0\n",
    "        for query in all_queries:\n",
    "            X, y_true = self.get_x_y(df, query)\n",
    "            n_samples = y_true.shape[0]\n",
    "            scores = self.forward(X, self.w1, self.b1, self.w2, self.b2, self.w3, self.b3)\n",
    "            idcg = self.idcg(y_true, n_samples)\n",
    "            ndcg_all_q += self.ndcg(y_true, scores, idcg, n_samples)\n",
    "        return ndcg_all_q / n_queries"
   ]
  },
  {
   "cell_type": "code",
   "execution_count": 25,
   "id": "1b143b18",
   "metadata": {},
   "outputs": [],
   "source": [
    "all_queries = train_df_selected['qid'].unique()\n",
    "n_queries = all_queries.shape[0]\n",
    "n_features = train_df_selected.shape[1] - 2\n",
    "size_0 = n_features\n",
    "size_1 = 14\n",
    "size_2 = 6\n",
    "k = 5\n",
    "size_mini_batch = 51\n",
    "alpha = 1.25\n",
    "learning_rate = 1e-3\n",
    "n_epoch = 50"
   ]
  },
  {
   "cell_type": "code",
   "execution_count": 26,
   "id": "ceeb5284",
   "metadata": {},
   "outputs": [
    {
     "data": {
      "application/vnd.jupyter.widget-view+json": {
       "model_id": "e6976a184d574d5c81480ecbf4d51708",
       "version_major": 2,
       "version_minor": 0
      },
      "text/plain": [
       "  0%|          | 0/50 [00:00<?, ?it/s]"
      ]
     },
     "metadata": {},
     "output_type": "display_data"
    },
    {
     "data": {
      "image/png": "[encoded data removed]",
      "text/plain": [
       "<Figure size 576x360 with 1 Axes>"
      ]
     },
     "metadata": {},
     "output_type": "display_data"
    }
   ],
   "source": [
    "model = RankNet(size_0, size_1, size_2)\n",
    "\n",
    "ndcg_train_log, ndcg_test_log = model.train(\n",
    "    train_df_selected, test_df_selected, size_mini_batch, alpha, n_epoch, learning_rate, k\n",
    ")\n",
    "\n",
    "fig, ax = plt.subplots(figsize=(8, 5))        \n",
    "plt.plot(\n",
    "    np.arange(n_epoch) + 1, ndcg_test_log, 'r-',\n",
    "    linewidth=1, marker='o', markersize=5, label='validation'\n",
    ")\n",
    "plt.xlabel('Epoch', fontsize=15)\n",
    "plt.ylabel(f'NDCG@{k}', fontsize=15)\n",
    "plt.legend()\n",
    "plt.grid()\n",
    "plt.show()"
   ]
  },
  {
   "cell_type": "code",
   "execution_count": null,
   "id": "d9be9721",
   "metadata": {},
   "outputs": [],
   "source": []
  }
 ],
 "metadata": {
  "colab": {
   "provenance": []
  },
  "kernelspec": {
   "display_name": "Python 3",
   "language": "python",
   "name": "python3"
  },
  "language_info": {
   "codemirror_mode": {
    "name": "ipython",
    "version": 3
   },
   "file_extension": ".py",
   "mimetype": "text/x-python",
   "name": "python",
   "nbconvert_exporter": "python",
   "pygments_lexer": "ipython3",
   "version": "3.8.8"
  }
 },
 "nbformat": 4,
 "nbformat_minor": 5
}
