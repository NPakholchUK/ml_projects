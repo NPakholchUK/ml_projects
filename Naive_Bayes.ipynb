{
 "cells": [
  {
   "cell_type": "markdown",
   "id": "558f6470",
   "metadata": {},
   "source": [
    "# Implementation of classifier using Naive Bayes."
   ]
  },
  {
   "cell_type": "markdown",
   "id": "f1e837f8",
   "metadata": {},
   "source": [
    "Import the necessary libraries."
   ]
  },
  {
   "cell_type": "code",
   "execution_count": 1,
   "id": "0ef24028",
   "metadata": {},
   "outputs": [],
   "source": [
    "import numpy as np\n",
    "import pandas as pd\n",
    "import matplotlib.pyplot as plt\n",
    "import seaborn as sns\n",
    "sns.set_style('whitegrid')\n",
    "from sklearn.preprocessing import LabelEncoder\n",
    "import nltk\n",
    "from nltk.tokenize import word_tokenize\n",
    "from nltk.stem import WordNetLemmatizer\n",
    "from nltk.corpus import stopwords\n",
    "from sklearn.model_selection import train_test_split\n",
    "from sklearn.feature_extraction.text import CountVectorizer\n",
    "from sklearn.metrics import accuracy_score, precision_score, recall_score, confusion_matrix\n",
    "import re"
   ]
  },
  {
   "cell_type": "markdown",
   "id": "2437c0ef",
   "metadata": {},
   "source": [
    "Dataset consists of 5574 English SMS messages, 425 of them tagged as spam and 3375 tagged as ham."
   ]
  },
  {
   "cell_type": "code",
   "execution_count": 2,
   "id": "5f850a64",
   "metadata": {},
   "outputs": [
    {
     "data": {
      "text/html": [
       "<div>\n",
       "<style scoped>\n",
       "    .dataframe tbody tr th:only-of-type {\n",
       "        vertical-align: middle;\n",
       "    }\n",
       "\n",
       "    .dataframe tbody tr th {\n",
       "        vertical-align: top;\n",
       "    }\n",
       "\n",
       "    .dataframe thead th {\n",
       "        text-align: right;\n",
       "    }\n",
       "</style>\n",
       "<table border=\"1\" class=\"dataframe\">\n",
       "  <thead>\n",
       "    <tr style=\"text-align: right;\">\n",
       "      <th></th>\n",
       "      <th>v1</th>\n",
       "      <th>v2</th>\n",
       "      <th>Unnamed: 2</th>\n",
       "      <th>Unnamed: 3</th>\n",
       "      <th>Unnamed: 4</th>\n",
       "    </tr>\n",
       "  </thead>\n",
       "  <tbody>\n",
       "    <tr>\n",
       "      <th>0</th>\n",
       "      <td>ham</td>\n",
       "      <td>Go until jurong point, crazy.. Available only ...</td>\n",
       "      <td>NaN</td>\n",
       "      <td>NaN</td>\n",
       "      <td>NaN</td>\n",
       "    </tr>\n",
       "    <tr>\n",
       "      <th>1</th>\n",
       "      <td>ham</td>\n",
       "      <td>Ok lar... Joking wif u oni...</td>\n",
       "      <td>NaN</td>\n",
       "      <td>NaN</td>\n",
       "      <td>NaN</td>\n",
       "    </tr>\n",
       "    <tr>\n",
       "      <th>2</th>\n",
       "      <td>spam</td>\n",
       "      <td>Free entry in 2 a wkly comp to win FA Cup fina...</td>\n",
       "      <td>NaN</td>\n",
       "      <td>NaN</td>\n",
       "      <td>NaN</td>\n",
       "    </tr>\n",
       "    <tr>\n",
       "      <th>3</th>\n",
       "      <td>ham</td>\n",
       "      <td>U dun say so early hor... U c already then say...</td>\n",
       "      <td>NaN</td>\n",
       "      <td>NaN</td>\n",
       "      <td>NaN</td>\n",
       "    </tr>\n",
       "    <tr>\n",
       "      <th>4</th>\n",
       "      <td>ham</td>\n",
       "      <td>Nah I don't think he goes to usf, he lives aro...</td>\n",
       "      <td>NaN</td>\n",
       "      <td>NaN</td>\n",
       "      <td>NaN</td>\n",
       "    </tr>\n",
       "  </tbody>\n",
       "</table>\n",
       "</div>"
      ],
      "text/plain": [
       "     v1                                                 v2 Unnamed: 2  \\\n",
       "0   ham  Go until jurong point, crazy.. Available only ...        NaN   \n",
       "1   ham                      Ok lar... Joking wif u oni...        NaN   \n",
       "2  spam  Free entry in 2 a wkly comp to win FA Cup fina...        NaN   \n",
       "3   ham  U dun say so early hor... U c already then say...        NaN   \n",
       "4   ham  Nah I don't think he goes to usf, he lives aro...        NaN   \n",
       "\n",
       "  Unnamed: 3 Unnamed: 4  \n",
       "0        NaN        NaN  \n",
       "1        NaN        NaN  \n",
       "2        NaN        NaN  \n",
       "3        NaN        NaN  \n",
       "4        NaN        NaN  "
      ]
     },
     "execution_count": 2,
     "metadata": {},
     "output_type": "execute_result"
    }
   ],
   "source": [
    "sms = pd.read_csv(\"data/spam.csv\")\n",
    "sms.head()"
   ]
  },
  {
   "cell_type": "code",
   "execution_count": 3,
   "id": "3e2e72a9",
   "metadata": {},
   "outputs": [
    {
     "data": {
      "text/plain": [
       "(5572, 5)"
      ]
     },
     "execution_count": 3,
     "metadata": {},
     "output_type": "execute_result"
    }
   ],
   "source": [
    "sms.shape"
   ]
  },
  {
   "cell_type": "markdown",
   "id": "c8fc8b6b",
   "metadata": {},
   "source": [
    "Removing uninformative columns and renaming the remaining columns relevant names."
   ]
  },
  {
   "cell_type": "code",
   "execution_count": 4,
   "id": "e3a5e24d",
   "metadata": {},
   "outputs": [],
   "source": [
    "sms.drop([\"Unnamed: 2\", \"Unnamed: 3\", \"Unnamed: 4\"], axis=1, inplace=True)\n",
    "sms.rename(columns={\"v1\": \"is_spam\", \"v2\": \"message\"}, inplace=True)"
   ]
  },
  {
   "cell_type": "markdown",
   "id": "07634824",
   "metadata": {},
   "source": [
    "Сonverting column **is_spam** to numeric data type and converting all words to lower case."
   ]
  },
  {
   "cell_type": "code",
   "execution_count": 5,
   "id": "0a59aa25",
   "metadata": {},
   "outputs": [],
   "source": [
    "labelencoder = LabelEncoder()\n",
    "sms.loc[:, \"is_spam\"] = labelencoder.fit_transform(sms.loc[:, \"is_spam\"])\n",
    "sms[\"message\"] = sms[\"message\"].apply(lambda text: text.lower())"
   ]
  },
  {
   "cell_type": "code",
   "execution_count": 6,
   "id": "fe2cca82",
   "metadata": {},
   "outputs": [],
   "source": [
    "targets, texts = sms[\"is_spam\"], sms[\"message\"]"
   ]
  },
  {
   "cell_type": "markdown",
   "id": "132c04f8",
   "metadata": {},
   "source": [
    "Splitting the texts into separate words."
   ]
  },
  {
   "cell_type": "code",
   "execution_count": 7,
   "id": "bd9cafab",
   "metadata": {},
   "outputs": [],
   "source": [
    "tokens = texts.apply(lambda text: word_tokenize(text))"
   ]
  },
  {
   "cell_type": "markdown",
   "id": "69722c25",
   "metadata": {},
   "source": [
    "Removing stop words that occur in many texts and therefore do not contain a useful signal and allows us to reduce the amount of data for analysis and focus on more relevant words, which increases the accuracy and efficiency of text processing. Removing characters that are not words or letters."
   ]
  },
  {
   "cell_type": "code",
   "execution_count": 8,
   "id": "3d808da3",
   "metadata": {},
   "outputs": [],
   "source": [
    "stop_words = set(stopwords.words('english'))\n",
    "pattern = r\"[^a-zA-Z]\"\n",
    "\n",
    "filtered_tokens = tokens.apply(\n",
    "    lambda text:\n",
    "    [word for word in text if (word not in stop_words and not re.search(pattern, word))]\n",
    ")"
   ]
  },
  {
   "cell_type": "markdown",
   "id": "475644b8",
   "metadata": {},
   "source": [
    "Compressing the word space using lemmatization that reduces words to their base or dictionary form."
   ]
  },
  {
   "cell_type": "code",
   "execution_count": 9,
   "id": "d33fda95",
   "metadata": {},
   "outputs": [
    {
     "data": {
      "text/plain": [
       "0    [go, jurong, point, crazy, available, bugis, n...\n",
       "1                       [ok, lar, joking, wif, u, oni]\n",
       "2    [free, entry, wkly, comp, win, fa, cup, final,...\n",
       "3        [u, dun, say, early, hor, u, c, already, say]\n",
       "4          [nah, think, go, usf, life, around, though]\n",
       "Name: message, dtype: object"
      ]
     },
     "execution_count": 9,
     "metadata": {},
     "output_type": "execute_result"
    }
   ],
   "source": [
    "lemmatizer = WordNetLemmatizer()\n",
    "lemmatized_words = filtered_tokens.apply(\n",
    "    lambda tokens: [lemmatizer.lemmatize(token) for token in tokens]\n",
    ")\n",
    "lemmatized_words.head()"
   ]
  },
  {
   "cell_type": "markdown",
   "id": "a2b946a1",
   "metadata": {},
   "source": [
    "Splitting the data into test and validation."
   ]
  },
  {
   "cell_type": "code",
   "execution_count": 10,
   "id": "1dd68845",
   "metadata": {},
   "outputs": [],
   "source": [
    "texts_train, texts_test, y_train, y_test = train_test_split(\n",
    "    filtered_tokens, targets, test_size=0.2, random_state=42\n",
    ")\n",
    "\n",
    "y_train = np.array(y_train)\n",
    "y_test = np.array(y_test)"
   ]
  },
  {
   "cell_type": "markdown",
   "id": "2978be79",
   "metadata": {},
   "source": [
    "Let's count the frequency of words in the test data."
   ]
  },
  {
   "cell_type": "code",
   "execution_count": 11,
   "id": "83a2127d",
   "metadata": {},
   "outputs": [],
   "source": [
    "dictionary = {}\n",
    "for text in texts_train:\n",
    "    for word in text:\n",
    "        if word not in dictionary:\n",
    "            dictionary[word] = 0\n",
    "        dictionary[word] += 1\n",
    "        \n",
    "most_common = sorted(dictionary.values(), reverse=True)"
   ]
  },
  {
   "cell_type": "markdown",
   "id": "651096cf",
   "metadata": {},
   "source": [
    "Removing the most frequent words as they carry little useful information. Removing rarely occurring words so that the model does not overfit."
   ]
  },
  {
   "cell_type": "code",
   "execution_count": 12,
   "id": "ee2f3477",
   "metadata": {},
   "outputs": [
    {
     "data": {
      "text/plain": [
       "1978                             [still, check, yo, half]\n",
       "3989                            [bank, issues, pick, per]\n",
       "3935                          [r, giving, second, chance]\n",
       "4078                                             [lt, gt]\n",
       "4086    [private, account, statement, shows, points, c...\n",
       "Name: message, dtype: object"
      ]
     },
     "execution_count": 12,
     "metadata": {},
     "output_type": "execute_result"
    }
   ],
   "source": [
    "lower_bound = 5\n",
    "upper_bound = most_common[0]\n",
    "texts_train = texts_train.apply(\n",
    "    lambda text: [word for word in text if lower_bound <= dictionary[word] <= upper_bound]\n",
    ")\n",
    "\n",
    "texts_train.head()"
   ]
  },
  {
   "cell_type": "markdown",
   "id": "91b585d9",
   "metadata": {},
   "source": [
    "Converting data to a numeric type using a tool that counts the number of occurrences of words. Аfter this the document will be a vector showing how many times each word from the dictionary appears in it."
   ]
  },
  {
   "cell_type": "code",
   "execution_count": 13,
   "id": "c64c4ed2",
   "metadata": {},
   "outputs": [
    {
     "data": {
      "text/plain": [
       "1351"
      ]
     },
     "execution_count": 13,
     "metadata": {},
     "output_type": "execute_result"
    }
   ],
   "source": [
    "texts_train = texts_train.apply(lambda text: \" \".join(text))\n",
    "vectorizer = CountVectorizer(token_pattern=r'(?u)\\b\\w+\\b')\n",
    "X_train = vectorizer.fit_transform(texts_train)\n",
    "X_test = vectorizer.transform(texts_test.apply(lambda text: \" \".join(text)))\n",
    "len(vectorizer.vocabulary_)"
   ]
  },
  {
   "cell_type": "markdown",
   "id": "4cb7334b",
   "metadata": {},
   "source": [
    "The classification will be done using a Naive Bayes classifier, which assumes that all words in the dictionary are conditionally independent given the category. In the text classification paradigm, we assume that different words in a text on the same topic appear independently of each other. \n",
    "\n",
    "This notebook implements two approaches to Naive Bayes: multinomial and multivariate. \n",
    "\n",
    "- In the multinomial model, a document is a sequence of events that are a random selection of one word from a \"bag of words\". When we calculate the likelihood of a document, we multiply the probabilities that we pulled out of the \"bag of words\" the words that appeared in the document. The result is a model that takes into account the number of times each word appears, but does not take into account which words are not in the document.\n",
    "\n",
    "- In a multivariate model, a document is a vector of binary attributes indicating whether a particular word occurred in the document. When we calculate the likelihood of a document, we multiply the probabilities of each word in the document occurring and also with multiply the probabilities of each word in the dictionary not occurring."
   ]
  },
  {
   "cell_type": "code",
   "execution_count": 14,
   "id": "b0b95f63",
   "metadata": {},
   "outputs": [],
   "source": [
    "class NaiveBayes:\n",
    "    def __init__(self, mode):\n",
    "        self.mode = mode\n",
    "        self.classes = None \n",
    "        self.log_priors = None\n",
    "        self.likelihood = None\n",
    "        \n",
    "    def fit(self, X, y):\n",
    "        num_samples = X.shape[0]\n",
    "        len_voc = X.shape[1]\n",
    "        self.classes = np.unique(y)\n",
    "        num_classes = len(self.classes)\n",
    "        class_cnt = np.unique(y, return_counts=True)[1]\n",
    "        self.log_priors = np.log((class_cnt + 1) / (num_samples + num_classes))[:,None]\n",
    "            \n",
    "        if self.mode == 'multinomial':\n",
    "            num_words_in_class = np.zeros((num_classes, len_voc))\n",
    "            for class_num in self.classes:\n",
    "                X_class = X[np.where(y == class_num)]\n",
    "                num_words_in_class[class_num, :] = np.sum(X_class, axis=0)\n",
    "            num_words_in_class_overall = np.sum(num_words_in_class, axis=1)[:,None]\n",
    "\n",
    "            self.likelihood = np.log(\n",
    "                (num_words_in_class + 1) / (num_words_in_class_overall + len_voc)\n",
    "            )\n",
    "            \n",
    "        if self.mode == 'multivariate':\n",
    "            samples_in_class = np.zeros((num_classes, len_voc))\n",
    "            for i in range(len_voc):\n",
    "                samples_with_word = np.where(np.squeeze(X[:,i].toarray()) != 0)\n",
    "                class_docs_with_word = y[samples_with_word]\n",
    "                samples_in_class[:, i] = (\n",
    "                    len(class_docs_with_word) - class_docs_with_word.sum(), class_docs_with_word.sum()\n",
    "                )\n",
    "                \n",
    "            self.likelihood = []\n",
    "            likelihood_pos = np.log((samples_in_class + 1) / (class_cnt[:,None] + 2))\n",
    "            self.likelihood.append(likelihood_pos)\n",
    "            likelihood_neg = np.log(1 - (samples_in_class + 1) / (class_cnt[:,None] + 2))\n",
    "            self.likelihood.append(likelihood_neg)\n",
    "        \n",
    "        \n",
    "    def predict(self, X, y):\n",
    "        num_samples = X.shape[0]\n",
    "        num_classes = len(self.classes)\n",
    "        num_samples = X.shape[0]\n",
    "        num_classes = len(self.classes)\n",
    "        posteriors = np.zeros((num_samples, num_classes))\n",
    "        \n",
    "        if self.mode == 'multinomial':\n",
    "            for class_num in self.classes:\n",
    "                posteriors[:,class_num] = self.log_priors[class_num] + X @ self.likelihood[class_num]\n",
    "            \n",
    "        if self.mode == 'multivariate':\n",
    "            X_pos = np.where(X.toarray() > 0, 1, 0)\n",
    "            for class_num in self.classes:\n",
    "                posteriors[:,class_num] = (\n",
    "                    self.log_priors[class_num] + X_pos @ self.likelihood[0][class_num]\n",
    "                )\n",
    "            X_neg = np.where(X.toarray() > 0, 0, 1)\n",
    "            for class_num in self.classes:\n",
    "                posteriors[:,class_num] += X_neg @ self.likelihood[1][class_num]\n",
    "\n",
    "        y_predict = np.argmax(posteriors, axis=1)\n",
    "        print(f'{self.mode} model:')\n",
    "        print('accuracy:', f'{accuracy_score(y, y_predict):.3f}')\n",
    "        print('precision:', f'{precision_score(y, y_predict):.3f}')\n",
    "        print('recall:', f'{recall_score(y, y_predict):.3f}')\n",
    "        cm = confusion_matrix(y, y_predict)\n",
    "        sns.heatmap(cm, annot = True, fmt = 'd', annot_kws={\"fontsize\":16})\n",
    "        plt.xlabel('Predicted', fontsize=16)\n",
    "        plt.ylabel('Actual', fontsize=16);\n",
    "        \n",
    "        return y_predict"
   ]
  },
  {
   "cell_type": "code",
   "execution_count": 15,
   "id": "c814b8da",
   "metadata": {},
   "outputs": [
    {
     "name": "stdout",
     "output_type": "stream",
     "text": [
      "multinomial model:\n",
      "accuracy: 0.971\n",
      "precision: 0.904\n",
      "recall: 0.880\n"
     ]
    },
    {
     "data": {
      "image/png": "[encoded data removed]",
      "text/plain": [
       "<Figure size 432x288 with 2 Axes>"
      ]
     },
     "metadata": {},
     "output_type": "display_data"
    }
   ],
   "source": [
    "nb = NaiveBayes('multinomial')\n",
    "nb.fit(X_train, y_train)\n",
    "y_pred_multinomial = nb.predict(X_test, y_test)"
   ]
  },
  {
   "cell_type": "code",
   "execution_count": 16,
   "id": "134539c8",
   "metadata": {},
   "outputs": [
    {
     "name": "stdout",
     "output_type": "stream",
     "text": [
      "multivariate model:\n",
      "accuracy: 0.979\n",
      "precision: 0.985\n",
      "recall: 0.860\n"
     ]
    },
    {
     "data": {
      "image/png": "[encoded data removed]",
      "text/plain": [
       "<Figure size 432x288 with 2 Axes>"
      ]
     },
     "metadata": {},
     "output_type": "display_data"
    }
   ],
   "source": [
    "nb = NaiveBayes('multivariate')\n",
    "nb.fit(X_train, y_train)\n",
    "y_pred_multivariate = nb.predict(X_test, y_test)"
   ]
  },
  {
   "cell_type": "markdown",
   "id": "3aa94a76",
   "metadata": {},
   "source": [
    "The results show that the multivariate model has higher precision, but lower recall. This is probably due to the fact that those messages that were not spam, but contained words that are often found in spam, are classified correctly by the multivariate model. This became possible due to the consideration of those words that were in the dictionary, but did not appear in the message. Let's find such messages."
   ]
  },
  {
   "cell_type": "code",
   "execution_count": 17,
   "id": "104d23b1",
   "metadata": {},
   "outputs": [
    {
     "name": "stdout",
     "output_type": "stream",
     "text": [
      "100: okay name ur price as long as its legal! wen can i pick them up? y u ave x ams xx\n",
      "101: i'm still looking for a car to buy. and have not gone 4the driving test yet.\n",
      "209: both :) i shoot big loads so get ready!\n",
      "246: i asked you to call him now ok\n",
      "268: the evo. i just had to download flash. jealous?\n",
      "319: coffee cake, i guess...\n",
      "473: want 2 get laid tonight? want real dogging locations sent direct 2 ur mob? join the uk's largest dogging network by txting moan to 69888nyt. ec2a. 31p.msg@150p\n",
      "501: when can �_ come out?\n",
      "567: so anyways, you can just go to your gym or whatever, my love *smiles* i hope your ok and having a good day babe ... i miss you so much already\n",
      "701: sorry, i'll call later\n",
      "792: y?where u at dogbreath? its just sounding like jan c that��s al!!!!!!!!!\n",
      "844: k.k:)when are you going?\n",
      "845: meanwhile in the shit suite: xavier decided to give us  &lt;#&gt;  seconds of warning that samantha was coming over and is playing jay's guitar to impress her or some shit. also i don't think doug realizes i don't live here anymore\n"
     ]
    }
   ],
   "source": [
    "idx_1 = np.intersect1d(np.where(y_pred_multinomial == 1), np.where(y_test == 0))\n",
    "idx_2 = np.intersect1d(np.where(y_pred_multivariate == 1), np.where(y_test == 0))\n",
    "idx = np.setdiff1d(idx_1, idx_2)\n",
    "for i in idx:\n",
    "    print(f'{i}:', texts.iloc[i])"
   ]
  },
  {
   "cell_type": "code",
   "execution_count": null,
   "id": "08983bef",
   "metadata": {},
   "outputs": [],
   "source": []
  }
 ],
 "metadata": {
  "kernelspec": {
   "display_name": "Python 3",
   "language": "python",
   "name": "python3"
  },
  "language_info": {
   "codemirror_mode": {
    "name": "ipython",
    "version": 3
   },
   "file_extension": ".py",
   "mimetype": "text/x-python",
   "name": "python",
   "nbconvert_exporter": "python",
   "pygments_lexer": "ipython3",
   "version": "3.8.8"
  }
 },
 "nbformat": 4,
 "nbformat_minor": 5
}
